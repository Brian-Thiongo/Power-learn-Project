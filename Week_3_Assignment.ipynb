{
  "nbformat": 4,
  "nbformat_minor": 0,
  "metadata": {
    "colab": {
      "provenance": [],
      "authorship_tag": "ABX9TyOu1Prit86TjtGwoVTy/zny",
      "include_colab_link": true
    },
    "kernelspec": {
      "name": "python3",
      "display_name": "Python 3"
    },
    "language_info": {
      "name": "python"
    }
  },
  "cells": [
    {
      "cell_type": "markdown",
      "metadata": {
        "id": "view-in-github",
        "colab_type": "text"
      },
      "source": [
        "<a href=\"https://colab.research.google.com/github/Brian-Thiongo/Power-learn-Project/blob/main/Week_3_Assignment.ipynb\" target=\"_parent\"><img src=\"https://colab.research.google.com/assets/colab-badge.svg\" alt=\"Open In Colab\"/></a>"
      ]
    },
    {
      "cell_type": "code",
      "execution_count": 3,
      "metadata": {
        "colab": {
          "base_uri": "https://localhost:8080/"
        },
        "id": "bYwiNWnc4rtK",
        "outputId": "51db688f-0921-4988-f5d6-99409cfcc89d"
      },
      "outputs": [
        {
          "output_type": "stream",
          "name": "stdout",
          "text": [
            "Enter the original price: 2000\n",
            "Enter the discount percentage: 20\n",
            "Discount applied. Final price after discount:   Kshs1600.00\n"
          ]
        }
      ],
      "source": [
        "def calculate_discount(price, discount_percent):\n",
        "    if discount_percent >= 20:\n",
        "        discounted_price = price * (1 - discount_percent / 100)\n",
        "        return discounted_price\n",
        "    else:\n",
        "        return price\n",
        "\n",
        "# Prompting the user to enter the original price and discount percentage\n",
        "original_price = float(input(\"Enter the original price: \"))\n",
        "discount_percent = float(input(\"Enter the discount percentage: \"))\n",
        "\n",
        "# Calculating the final price using the calculate_discount function\n",
        "final_price = calculate_discount(original_price, discount_percent)\n",
        "\n",
        "# Printing the final price after applying the discount or the original price\n",
        "if final_price == original_price:\n",
        "    print(f\"No discount applied. Final price: Kshs{final_price:.2f}\")\n",
        "else:\n",
        "    print(f\"Discount applied. Final price after discount:   Kshs{final_price:.2f}\")\n"
      ]
    }
  ]
}