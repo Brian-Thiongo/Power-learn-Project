{
  "nbformat": 4,
  "nbformat_minor": 0,
  "metadata": {
    "colab": {
      "provenance": [],
      "authorship_tag": "ABX9TyOQrR9i0GpCUsz52gcwEm7f",
      "include_colab_link": true
    },
    "kernelspec": {
      "name": "python3",
      "display_name": "Python 3"
    },
    "language_info": {
      "name": "python"
    }
  },
  "cells": [
    {
      "cell_type": "markdown",
      "metadata": {
        "id": "view-in-github",
        "colab_type": "text"
      },
      "source": [
        "<a href=\"https://colab.research.google.com/github/Brian-Thiongo/Power-learn-Project/blob/main/Week_5_Assignment.ipynb\" target=\"_parent\"><img src=\"https://colab.research.google.com/assets/colab-badge.svg\" alt=\"Open In Colab\"/></a>"
      ]
    },
    {
      "cell_type": "code",
      "execution_count": 18,
      "metadata": {
        "colab": {
          "base_uri": "https://localhost:8080/"
        },
        "id": "bYwiNWnc4rtK",
        "outputId": "76385824-06d8-49eb-cfe6-4c21837cd8b7"
      },
      "outputs": [
        {
          "output_type": "stream",
          "name": "stdout",
          "text": [
            "my_file.txt has been created and initial content has been written.\n",
            "Contents of my_file.txt:\n",
            "Hello, this is line 1.\n",
            "This is line 2 with a number: 42.\n",
            "Line 3 contains some text.\n",
            "\n",
            "Additional content has been appended to my_file.txt.\n",
            "Contents of my_file.txt:\n",
            "Hello, this is line 1.\n",
            "This is line 2 with a number: 42.\n",
            "Line 3 contains some text.\n",
            "This is an appended line 4.\n",
            "Appending line 5 with another number: 84.\n",
            "Finally, this is appended line 6.\n",
            "\n"
          ]
        }
      ],
      "source": [
        "# file_handling_assignment.py\n",
        "\n",
        "def create_and_write_file(filename):\n",
        "    try:\n",
        "        with open(filename, 'w') as file:\n",
        "            file.write(\"Hello, this is line 1.\\n\")\n",
        "            file.write(\"This is line 2 with a number: 42.\\n\")\n",
        "            file.write(\"Line 3 contains some text.\\n\")\n",
        "        print(f\"{filename} has been created and initial content has been written.\")\n",
        "    except (FileNotFoundError, PermissionError) as e:\n",
        "        print(f\"Error while creating or writing to the file: {e}\")\n",
        "\n",
        "def read_file(filename):\n",
        "    try:\n",
        "        with open(filename, 'r') as file:\n",
        "            content = file.read()\n",
        "            print(f\"Contents of {filename}:\\n{content}\")\n",
        "    except (FileNotFoundError, PermissionError) as e:\n",
        "        print(f\"Error while reading the file: {e}\")\n",
        "\n",
        "def append_to_file(filename):\n",
        "    try:\n",
        "        with open(filename, 'a') as file:\n",
        "            file.write(\"This is an appended line 4.\\n\")\n",
        "            file.write(\"Appending line 5 with another number: 84.\\n\")\n",
        "            file.write(\"Finally, this is appended line 6.\\n\")\n",
        "        print(f\"Additional content has been appended to {filename}.\")\n",
        "    except (FileNotFoundError, PermissionError) as e:\n",
        "        print(f\"Error while appending to the file: {e}\")\n",
        "\n",
        "def main():\n",
        "    filename = \"my_file.txt\"\n",
        "\n",
        "    # Create and write initial content to the file\n",
        "    create_and_write_file(filename)\n",
        "\n",
        "    # Read and display the file content\n",
        "    read_file(filename)\n",
        "\n",
        "    # Append additional content to the file\n",
        "    append_to_file(filename)\n",
        "\n",
        "    # Read and display the file content again to show appended content\n",
        "    read_file(filename)\n",
        "\n",
        "if __name__ == \"__main__\":\n",
        "    main()\n"
      ]
    }
  ]
}